{
  "cells": [
    {
      "cell_type": "code",
      "execution_count": 2,
      "metadata": {
        "id": "2WEZKG-5tnFu"
      },
      "outputs": [],
      "source": [
        "# from IPython.display import HTML, clear_output\n",
        "\n",
        "import brax\n",
        "from datetime import datetime\n",
        "\n",
        "from brax import envs\n",
        "from brax.io import html\n",
        "from brax.training.agents.ppo import train as ppo\n",
        "from brax.training.agents.sac import train as sac\n",
        "\n",
        "import jax\n",
        "import os\n",
        "import json\n",
        "\n",
        "# if 'COLAB_TPU_ADDR' in os.environ:\n",
        "#   from jax.tools import colab_tpu\n",
        "#   colab_tpu.setup_tpu()"
      ]
    },
    {
      "cell_type": "code",
      "execution_count": 3,
      "metadata": {
        "id": "PPr48m2IiECv"
      },
      "outputs": [
        {
          "name": "stderr",
          "output_type": "stream",
          "text": [
            "Matplotlib is building the font cache; this may take a moment.\n"
          ]
        }
      ],
      "source": [
        "import jax\n",
        "import jax.numpy as jnp\n",
        "from jax.scipy.stats import multivariate_normal\n",
        "import matplotlib.pyplot as plt\n",
        "\n",
        "import functools\n",
        "import optax\n",
        "import numpy as np"
      ]
    },
    {
      "cell_type": "code",
      "execution_count": 4,
      "metadata": {
        "id": "5dbYwS8F0Is7"
      },
      "outputs": [],
      "source": [
        "seed = 0\n",
        "rng = jax.random.PRNGKey(seed)\n",
        "\n",
        "env_name = 'ant'\n",
        "backend = 'positional'\n",
        "\n",
        "save_path = f'./data/{env_name}'"
      ]
    },
    {
      "cell_type": "code",
      "execution_count": 4,
      "metadata": {
        "id": "c1r8OlJNDFvG"
      },
      "outputs": [],
      "source": [
        "def save_trajectories(trajectories, save_path):\n",
        "  if not os.path.exists(save_path):\n",
        "    os.makedirs(save_path)\n",
        "  save_path = f\"{save_path}/trajectories.json\"\n",
        "  with open(save_path, \"w\") as f:\n",
        "    json.dump(trajectories, f)\n",
        "\n",
        "\n",
        "def random_inference_fn(usize):\n",
        "  def inference_fn(obs, rng):\n",
        "    act = jax.random.uniform(rng, shape=(usize,), minval=-1., maxval=1.)\n",
        "    return act, None\n",
        "  return inference_fn\n",
        "\n",
        "\n",
        "def zero_inference_fn(usize):\n",
        "  def inference_fn(obs, rng):\n",
        "    return jnp.zeros(usize), None\n",
        "  return inference_fn\n",
        "\n",
        "\n",
        "def normal_inference_fn(usize, expert_inference):\n",
        "  def inference_fn(obs, rng):\n",
        "    rng_1, rng_2 = jax.random.split(rng)\n",
        "    act_mean, _ = expert_inference(obs, rng_1)\n",
        "    act = act_mean + jax.random.normal(rng_2, shape=(usize,))\n",
        "    return act, None\n",
        "  return inference_fn\n",
        "\n",
        "\n",
        "def collect_trajectories(rng, env, inference_fn, inference_name, save_path):\n",
        "  jit_env_reset = jax.jit(env.reset)\n",
        "  jit_env_step = jax.jit(env.step)\n",
        "  jit_inference_fn = jax.jit(inference_fn)\n",
        "\n",
        "  trajectories = []\n",
        "  for ep in range(50):\n",
        "    traj = {'states': [], 'actions': [], 'reward': 0.}\n",
        "    rng, state_rng, sub_rng = jax.random.split(rng, 3)\n",
        "    rwd = 0\n",
        "    state = jit_env_reset(rng=state_rng)\n",
        "    for _ in range(1000):\n",
        "      sub_rng, act_rng = jax.random.split(sub_rng)\n",
        "      act, _ = jit_inference_fn(state.obs, act_rng)\n",
        "\n",
        "      traj['states'].append(state.obs.tolist())\n",
        "      traj['actions'].append(act.tolist())\n",
        "\n",
        "      state = jit_env_step(state, act)\n",
        "      rwd += state.reward\n",
        "\n",
        "    traj['reward'] = float(rwd)\n",
        "    trajectories.append(traj)\n",
        "\n",
        "  save_path = f\"{save_path}/{inference_name}\"\n",
        "  save_trajectories(trajectories, save_path)\n"
      ]
    },
    {
      "cell_type": "code",
      "execution_count": 4,
      "metadata": {
        "id": "QsAXAThZI_do"
      },
      "outputs": [],
      "source": []
    },
    {
      "cell_type": "markdown",
      "metadata": {
        "id": "KIsbU3SPSBfg"
      },
      "source": [
        "#### Train expert policy"
      ]
    },
    {
      "cell_type": "code",
      "execution_count": 5,
      "metadata": {
        "id": "pgWvKtkJkV8O"
      },
      "outputs": [],
      "source": [
        "# See: https://colab.research.google.com/github/google/brax/blob/main/notebooks/basics.ipynb\n",
        "\n",
        "train_fn = {\n",
        "  'halfcheetah': functools.partial(ppo.train, num_timesteps=50_000_000, num_evals=20, reward_scaling=1, episode_length=1000, normalize_observations=True, action_repeat=1, unroll_length=20, num_minibatches=32, num_updates_per_batch=8, discounting=0.95, learning_rate=3e-4, entropy_cost=0.001, num_envs=2048, batch_size=512, seed=3),\n",
        "  'walker2d': functools.partial(sac.train, num_timesteps=7_864_320, num_evals=20, reward_scaling=5, episode_length=1000, normalize_observations=True, action_repeat=1, discounting=0.997, learning_rate=6e-4, num_envs=128, batch_size=128, grad_updates_per_step=32, max_devices_per_host=1, max_replay_size=1048576, min_replay_size=8192, seed=1),\n",
        "  'hopper': functools.partial(sac.train, num_timesteps=6_553_600, num_evals=20, reward_scaling=30, episode_length=1000, normalize_observations=True, action_repeat=1, discounting=0.997, learning_rate=6e-4, num_envs=128, batch_size=512, grad_updates_per_step=64, max_devices_per_host=1, max_replay_size=1048576, min_replay_size=8192, seed=1),\n",
        "  'ant': functools.partial(ppo.train,  num_timesteps=50_000_000, num_evals=10, reward_scaling=10, episode_length=1000, normalize_observations=True, action_repeat=1, unroll_length=5, num_minibatches=32, num_updates_per_batch=4, discounting=0.97, learning_rate=3e-4, entropy_cost=1e-2, num_envs=4096, batch_size=2048, seed=1),\n",
        "}[env_name]"
      ]
    },
    {
      "cell_type": "code",
      "execution_count": 6,
      "metadata": {
        "id": "JacWu4Oxtimh"
      },
      "outputs": [],
      "source": [
        "max_y = {'halfcheetah': 8000, 'walker2d': 5000, 'hopper': 2500, 'ant': 8000}[env_name]\n",
        "min_y = 0\n",
        "\n",
        "xdata, ydata = [], []\n",
        "times = [datetime.now()]\n",
        "\n",
        "def progress(num_steps, metrics):\n",
        "  times.append(datetime.now())\n",
        "  xdata.append(num_steps)\n",
        "  ydata.append(metrics['eval/episode_reward'])\n",
        "  clear_output(wait=True)\n",
        "  plt.xlim([0, train_fn.keywords['num_timesteps']])\n",
        "  plt.ylim([min_y, max_y])\n",
        "  plt.xlabel('# environment steps')\n",
        "  plt.ylabel('reward per episode')\n",
        "  plt.plot(xdata, ydata)\n",
        "  plt.show()"
      ]
    },
    {
      "cell_type": "code",
      "execution_count": 7,
      "metadata": {
        "id": "hqhdkOVYuFZ0"
      },
      "outputs": [],
      "source": [
        "env = envs.get_environment(env_name=env_name, backend=backend)"
      ]
    },
    {
      "cell_type": "code",
      "execution_count": 8,
      "metadata": {
        "colab": {
          "base_uri": "https://localhost:8080/",
          "height": 490
        },
        "id": "mVXwaFp7yrfa",
        "outputId": "f99d1539-38a0-4262-d0ea-2015eaa14c18"
      },
      "outputs": [
        {
          "data": {
            "image/png": "[encoded data removed]",
            "text/plain": [
              "<Figure size 640x480 with 1 Axes>"
            ]
          },
          "metadata": {},
          "output_type": "display_data"
        },
        {
          "name": "stdout",
          "output_type": "stream",
          "text": [
            "time to jit: 0:00:47.919114\n",
            "time to train: 0:07:28.499283\n"
          ]
        }
      ],
      "source": [
        "make_inference_fn, params, _ = train_fn(environment=env, progress_fn=progress)\n",
        "\n",
        "print(f'time to jit: {times[1] - times[0]}')\n",
        "print(f'time to train: {times[-1] - times[1]}')"
      ]
    },
    {
      "cell_type": "code",
      "execution_count": 48,
      "metadata": {
        "id": "3r7Rl6Q3QFan"
      },
      "outputs": [],
      "source": []
    },
    {
      "cell_type": "markdown",
      "metadata": {
        "id": "nTQzhQozSEs_"
      },
      "source": [
        "#### Collect trajectories"
      ]
    },
    {
      "cell_type": "code",
      "execution_count": 9,
      "metadata": {
        "colab": {
          "base_uri": "https://localhost:8080/"
        },
        "id": "hHfARPI2yv3e",
        "outputId": "545a8f42-26be-4b95-df10-4a1de64f4213"
      },
      "outputs": [
        {
          "name": "stderr",
          "output_type": "stream",
          "text": [
            "/usr/local/lib/python3.10/dist-packages/ipykernel/ipkernel.py:283: DeprecationWarning: `should_run_async` will not call `transform_cell` automatically in the future. Please pass the result to `transformed_cell` argument and any exception that happen during thetransform in `preprocessing_exc_tuple` in IPython 7.17 and above.\n",
            "  and should_run_async(code)\n"
          ]
        }
      ],
      "source": [
        "inference_env = envs.create(env_name=env_name, backend=backend)"
      ]
    },
    {
      "cell_type": "code",
      "execution_count": 10,
      "metadata": {
        "id": "XH1E1EQRz7y_"
      },
      "outputs": [],
      "source": [
        "expert_inference = make_inference_fn(params)\n",
        "usize = inference_env.action_size"
      ]
    },
    {
      "cell_type": "code",
      "execution_count": null,
      "metadata": {
        "colab": {
          "base_uri": "https://localhost:8080/"
        },
        "id": "8WhWCiWpP4Vi",
        "outputId": "803398ae-bb14-47f2-ae66-681af3e339c9"
      },
      "outputs": [
        {
          "name": "stdout",
          "output_type": "stream",
          "text": [
            "Trajectory collecting for: expert\n",
            "Trajectory collecting for: random\n",
            "Trajectory collecting for: zero\n"
          ]
        }
      ],
      "source": [
        "rng_1, rng_2, rng_3, rng_4 = jax.random.split(rng, 4)\n",
        "inf_fn_and_name = [\n",
        "    (expert_inference, 'expert', rng_1),\n",
        "    (random_inference_fn(usize), 'random', rng_2),\n",
        "    (zero_inference_fn(usize), 'zero', rng_3),\n",
        "    (normal_inference_fn(usize, expert_inference), 'normal', rng_4),\n",
        "]\n",
        "\n",
        "\n",
        "for fn, name, rng_key in inf_fn_and_name:\n",
        "  print(f\"Trajectory collecting for: {name}\")\n",
        "  collect_trajectories(\n",
        "      rng=rng_key,\n",
        "      env=inference_env,\n",
        "      inference_fn=fn,\n",
        "      inference_name=name,\n",
        "      save_path=save_path\n",
        "  )"
      ]
    },
    {
      "cell_type": "code",
      "execution_count": null,
      "metadata": {
        "id": "m1sdWKJIRel0"
      },
      "outputs": [],
      "source": []
    },
    {
      "cell_type": "code",
      "execution_count": null,
      "metadata": {
        "id": "X6KYKJmNVLvS"
      },
      "outputs": [],
      "source": []
    }
  ],
  "metadata": {
    "accelerator": "GPU",
    "colab": {
      "gpuType": "T4",
      "provenance": []
    },
    "kernelspec": {
      "display_name": "Python 3",
      "name": "python3"
    },
    "language_info": {
      "codemirror_mode": {
        "name": "ipython",
        "version": 3
      },
      "file_extension": ".py",
      "mimetype": "text/x-python",
      "name": "python",
      "nbconvert_exporter": "python",
      "pygments_lexer": "ipython3",
      "version": "3.9.18"
    }
  },
  "nbformat": 4,
  "nbformat_minor": 0
}
